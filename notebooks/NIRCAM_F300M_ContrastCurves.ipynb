{
 "cells": [
  {
   "cell_type": "code",
   "execution_count": 1,
   "metadata": {},
   "outputs": [],
   "source": [
    "import os\n",
    "import astropy.io.fits as fits\n",
    "import numpy as np\n",
    "import scipy\n",
    "import scipy.ndimage as ndi\n",
    "import matplotlib.pylab as plt\n",
    "%matplotlib inline\n",
    "%config InlineBackend.figure_format = 'retina'\n",
    "import pyklip.klip\n",
    "import pyklip.instruments.Instrument as Instrument\n",
    "import pyklip.parallelized as parallelized\n",
    "import pyklip.rdi as rdi\n",
    "import pyklip.fakes as fakes\n",
    "import glob\n",
    "from astropy.table import Table\n",
    "from astropy.table import join\n",
    "from astropy.table import vstack\n",
    "import pandas as pd\n",
    "import pdb\n",
    "from tqdm import tqdm\n",
    "import sys"
   ]
  },
  {
   "cell_type": "markdown",
   "metadata": {},
   "source": [
    "# Creating Contrast Curves"
   ]
  },
  {
   "cell_type": "markdown",
   "metadata": {},
   "source": [
    "This notebook allows for the creation of contrast curves for the James Webb Space Telescope NIRCAM, first by simply making a raw contrast measurement, then by estimating and calibrating coronagraphic and algorithmic throughput and remeasuring the contrast. "
   ]
  },
  {
   "cell_type": "markdown",
   "metadata": {},
   "source": [
    "## The Raw Contrast Curve\n",
    "### Loading the dataset\n",
    "\n",
    "In this tutorial, we will utilize the telescope's two roll angles as well as a library of reference images in order to perform and evaluate both angular differential imaging (ADI) and reference differential imaging (RDI). Since we'll need to generate lots of datasets throughout this tutorial, we'll define dataset generation as a function. This function should load the roll angles (10° is the max) and the reference library where necessary, as well as the center of the image and the inner working angle in order to create a full sequence of images. \n",
    "\n",
    "**Before doing this, be sure to specify the directory your data is contained in, your preferred filter, and the mode (ADI or RDI) that you'd like to use this tutorial for.**"
   ]
  },
  {
   "cell_type": "code",
   "execution_count": 2,
   "metadata": {},
   "outputs": [],
   "source": [
    "# Let's specifiy the important variables first. Change this as needed.\n",
    "mode = \"RDI\" \n",
    "datadir = \"old_simulated_data/\"\n",
    "filtername = \"f444w\"\n",
    "pas_list = [0, 10]\n",
    "rollnames_list = [\"roll1\", \"roll2\"]\n",
    "unocculted_psf = \"NIRCam_unocculted_f300m.fits\"\n",
    "center_x = 71 # Center (x) of the unocculted psf\n",
    "center_y = 30 # Center (y) of the unocculted psf\n",
    "IWA = 12 # Set this to be what you want your innermost contrast curve separation to be\n",
    "OWA = 45 # Set this to be what you want your outermost contrast curve separation to be\n",
    "\n",
    "# Mask for real planets\n",
    "mask = \"on\"\n",
    "x_positions= [41,43]\n",
    "y_positions= [54,70]\n",
    "\n",
    "#Read in transmission profile of coronagraph used\n",
    "coronagraph = pd.read_csv(\"MASK210R.csv\", names = [\"rad_dist\", \"trans\"])\n",
    "\n",
    "# Make lists of filenames (for all rolls, and for reference library)\n",
    "roll_filenames_list =  [\"NIRCam_target_Roll1_f300m.fits\", \"NIRCam_target_Roll2_f300m.fits\"]\n",
    "ref_filenames_list = \"NIRCam_refs_SGD_f300m.fits\"\n",
    "\n",
    "# Change KLIP parameters here\n",
    "annuli = 9\n",
    "subsections = 4\n",
    "movement = 1"
   ]
  },
  {
   "cell_type": "code",
   "execution_count": 3,
   "metadata": {},
   "outputs": [],
   "source": [
    "# # Let's specifiy the important variables first. Change this as needed.\n",
    "\n",
    "# mode = \"ADI\" \n",
    "# datadir = \"Eps_Eri_Sim/\"\n",
    "# filtername = \"f444m\"\n",
    "# pas_list = [0, 10, 3.3, 6.7]\n",
    "# rollnames_list = [\"roll1\", \"roll2\", \"roll3\", \"roll4\"]\n",
    "# unocculted_psf = \"offaxistarget.fits\"\n",
    "# center_x = 67 # Center (x) of the unocculted psf\n",
    "# center_y = 67 # Center (y) of the unocculted psf\n",
    "# IWA = 12 # Set this to be what you want your innermost contrast curve separation to be\n",
    "# OWA = 45 # Set this to be what you want your outermost contrast curve separation to be\n",
    "\n",
    "# # Mask for real planets\n",
    "# mask = \"off\"\n",
    "# x_positions= None\n",
    "# y_positions= None\n",
    "\n",
    "# #Read in transmission profile of coronagraph used\n",
    "# coronagraph = pd.read_csv(\"MASK430R.csv\", names = [\"rad_dist\", \"trans\"])\n",
    "\n",
    "# # Make lists of filenames\n",
    "# roll_filenames_list =  [\"Target/TargetCube.fits\"]\n",
    "# ref_filenames_list = \"Reference/ReferenceCube.fits\"\n",
    "\n",
    "# # Change KLIP parameters here\n",
    "# annuli = 9\n",
    "# subsections = 4\n",
    "# movement = 1"
   ]
  },
  {
   "cell_type": "code",
   "execution_count": 4,
   "metadata": {},
   "outputs": [],
   "source": [
    "def generate_datasets(datadir, roll_filenames_list, ref_filenames_list, rollnames_list, pas_list, num_datasets=1, mode = 'ADI'):\n",
    "    \"\"\"\n",
    "    Generates multiple generic datasets based on the two JWST roll angles 0° and 10°\n",
    "    \n",
    "    Args:\n",
    "        datadir (str): The directory the data is contained in\n",
    "        roll_filenames_list (list: str): A list of the names of all the files you'd like to read in for each roll angle\n",
    "        ref_filenames_list (list:str): A list of the names of all the files you'd like to read in for the reference library\n",
    "        rollnames_list (list: str): A list of the names you'd like to call your roll angles\n",
    "        pas_list (list: float): A list of all the position/roll angles of your data\n",
    "        num_datasets(int): Number of datasets to be generated. Default is 1.\n",
    "        data_type (str): The type of data reduction you'd like to generate data for (adi or rdi). adi is default\n",
    "    \n",
    "    Returns:\n",
    "        list: List of generated datasets\n",
    "        list: psf library\n",
    "    \"\"\"\n",
    "    if mode not in ('ADI','RDI'):\n",
    "        raise ValueError(f\"Uknown data type {mode}\")\n",
    "    \n",
    "    # Use this function if mode is adi\n",
    "    def _process_adi(datadir, roll_filenames_list, ref_filenames_list, rollnames_list, pas_list, num_datasets):\n",
    "        datasets = []\n",
    "        psflibs = []\n",
    "        for dataset in range(num_datasets):\n",
    "            \n",
    "            # Read in your data\n",
    "            data = [fits.getdata(f\"{datadir}{filename}\") for filename in roll_filenames_list]\n",
    "            \n",
    "              \n",
    "            # Combine your data if you read in multiple roll angles (if you read in the full cube already, this function will still work and just return your cube)\n",
    "            full_seq = np.concatenate(data, axis=0)\n",
    "\n",
    "            # Create an array of all the roll angles. First check to see if each image has 1 or more frames \n",
    "            if full_seq.shape[0] > len(pas_list):\n",
    "                for d in data:\n",
    "                    pas = np.ravel([[pa]*d.shape[0] for pa in pas_list])\n",
    "                    \n",
    "            elif full_seq.shape[0] == len(pas_list):\n",
    "                pas = np.array(pas_list)\n",
    "\n",
    "            # For each image, the (x,y) center where the star is is just the center of the image\n",
    "            centers = np.array([np.array(frame.shape) // 2.0 for frame in full_seq])\n",
    "            \n",
    "            # Give each roll angle a name so we can refer to them.  First check to see if each image has 1 or more frames \n",
    "            if full_seq.shape[0] > len(rollnames_list):\n",
    "                rollnames = []\n",
    "                for rn in rollnames_list:\n",
    "                    rollnames += [f\"{rn}_{d}\" for d in range(data[0].shape[0])]\n",
    "                    \n",
    "            elif full_seq.shape[0] == len(rollnames_list):\n",
    "                rollnames = rollnames_list\n",
    "\n",
    "            # Define dataset\n",
    "            dataset = Instrument.GenericData(full_seq, centers, IWA=4, parangs=pas, filenames=rollnames)\n",
    "            dataset.flipx = False # Get the right handedness of the data\n",
    "            dataset.OWA = round((dataset.input.shape[-1])/2) # Set OWA\n",
    "            \n",
    "            psflib = None\n",
    "            if num_datasets > 1:\n",
    "                datasets.append(dataset)\n",
    "                psflibs.append(psflib)\n",
    "            else:\n",
    "                datasets = dataset\n",
    "                psflibs = psflib\n",
    "        return datasets, psflibs\n",
    "    \n",
    "    # Use this function if mode is rdi\n",
    "    def _process_rdi(datadir, roll_filenames_list, ref_filenames_list, rollnames_list, pas_list, num_datasets):\n",
    "        \n",
    "        datasets = []\n",
    "        psflibs = []\n",
    "        for dataset in range(num_datasets):\n",
    "            # Read in your data\n",
    "            data = [fits.getdata(f\"{datadir}{filename}\") for filename in roll_filenames_list]\n",
    "\n",
    "            # Combine your data if you read in multiple roll angles (if you read in the full cube already, this function will still work and just return your cube)\n",
    "            full_seq = np.concatenate(data, axis=0)\n",
    "\n",
    "            # Create an array of all the roll angles. First check to see if each image has 1 or more frames \n",
    "            if full_seq.shape[0] > len(pas_list):\n",
    "                for d in data:\n",
    "                    pas = np.ravel([[pa]*d.shape[0] for pa in pas_list])\n",
    "                    \n",
    "            elif full_seq.shape[0] == len(pas_list):\n",
    "                pas = np.array(pas_list)\n",
    "\n",
    "            # For each image, the (x,y) center where the star is is just the center of the image\n",
    "            centers = np.array([np.array(frame.shape) // 2.0 for frame in full_seq])\n",
    "            \n",
    "            # Give each roll angle a name so we can refer to them.  First check to see if each image has 1 or more frames \n",
    "            if full_seq.shape[0] > len(rollnames_list):\n",
    "                rollnames = []\n",
    "                for rn in rollnames_list:\n",
    "                    rollnames += [f\"{rn}_{d}\" for d in range(data[0].shape[0])]\n",
    "                    \n",
    "            elif full_seq.shape[0] == len(rollnames_list):\n",
    "                rollnames = rollnames_list\n",
    "\n",
    "            # Define dataset\n",
    "            dataset = Instrument.GenericData(full_seq, centers, IWA=4, parangs=pas, filenames=rollnames)\n",
    "            dataset.flipx = False # Get the right handedness of the data\n",
    "            dataset.OWA = round((dataset.input.shape[-1])/2) # Set OWA\n",
    "            \n",
    "            # read in ref star\n",
    "            with fits.open(f\"{datadir}/{ref_filenames_list}\") as hdulist:\n",
    "                ref_cube = hdulist[0].data\n",
    "            \n",
    "            # Combine both science target and reference target images into a psf library array\n",
    "            psflib_imgs = np.append(ref_cube, full_seq, axis=0)\n",
    "\n",
    "            ref_filenames = [\"ref_{0}\".format(i) for i in range(ref_cube.shape[0])]\n",
    "            \n",
    "            psflib_filenames = np.append(ref_filenames, rollnames, axis=0)\n",
    "            \n",
    "            # All frames aligned to image center (Which are the same size)\n",
    "            ref_center = np.array(ref_cube[0].shape)/2\n",
    "\n",
    "            # make the PSF library\n",
    "            # we need to compute the correlation matrix of all images vs each other since we haven't computed it before\n",
    "            psflib = rdi.PSFLibrary(psflib_imgs, ref_center, psflib_filenames, compute_correlation=True)\n",
    "\n",
    "            if num_datasets > 1:\n",
    "                datasets.append(dataset)\n",
    "                psflibs.append(psflib)\n",
    "            else:\n",
    "                datasets = dataset\n",
    "                psflibs = psflib\n",
    "                \n",
    "        return datasets, psflibs\n",
    "    \n",
    "    \n",
    "    return _process_adi(datadir, roll_filenames_list, ref_filenames_list, rollnames_list, pas_list, num_datasets) if mode == 'ADI' else _process_rdi(datadir, roll_filenames_list, ref_filenames_list, rollnames_list, pas_list, num_datasets) if mode == 'RDI' else None\n"
   ]
  },
  {
   "cell_type": "markdown",
   "metadata": {},
   "source": [
    "### Run Klip\n",
    "\n",
    "Next, we need to remove the starlight from our images in order to accurately measure contrast. We will break the image into 9 concentric annuli, and each annuli into 4 azimuthal sectors, then run KLIP on each of these sectors. Note that when we're in RDI mode, we need to perform an extra step of preparing the psf library."
   ]
  },
  {
   "cell_type": "code",
   "execution_count": 5,
   "metadata": {},
   "outputs": [
    {
     "name": "stdout",
     "output_type": "stream",
     "text": [
      "Begin align and scale images for each wavelength\n",
      "Wavelength 1.0 with index 0 has finished align and scale. Queuing for KLIP\n",
      "Closing threadpool\n",
      "Derotating Images...\n",
      "Writing Images to directory /Users/jeaadams/JWST-ERS-Pipeline/notebooks\n",
      "wavelength collapsing reduced data of shape (b, N, wv, y, x):(5, 12, 1, 101, 101)\n"
     ]
    }
   ],
   "source": [
    "# Specifying KLIP params. Change as desired\n",
    "outputdir = \"./\"\n",
    "fileprefix = f\"pyklip-{filtername}-{mode}-k50a9s4m1\"\n",
    "annuli = annuli\n",
    "subsections = subsections\n",
    "movement = movement\n",
    "\n",
    "# Generate dataset for use\n",
    "dataset, psflib = generate_datasets(datadir, roll_filenames_list = roll_filenames_list, ref_filenames_list = ref_filenames_list, rollnames_list = rollnames_list, pas_list = pas_list, mode = mode)\n",
    "\n",
    "\n",
    "if mode == 'RDI':\n",
    "    psflib.prepare_library(dataset)\n",
    "    \n",
    "# Run pyKLIP RDI\n",
    "parallelized.klip_dataset(dataset, outputdir=outputdir, fileprefix=fileprefix, annuli=annuli, \n",
    "                      subsections=subsections, numbasis=[1,5,10,20,50], movement = movement, \n",
    "                          mode=mode, psf_library=psflib)"
   ]
  },
  {
   "cell_type": "markdown",
   "metadata": {},
   "source": [
    "### Read the KLIP-ed dataset back in"
   ]
  },
  {
   "cell_type": "code",
   "execution_count": 6,
   "metadata": {},
   "outputs": [
    {
     "data": {
      "image/png": "[encoded data removed]",
      "text/plain": [
       "<Figure size 432x288 with 1 Axes>"
      ]
     },
     "metadata": {
      "image/png": {
       "height": 264,
       "width": 280
      },
      "needs_background": "light"
     },
     "output_type": "display_data"
    }
   ],
   "source": [
    "# Read in the KLIP-ed dataset\n",
    "filesuffix = \"-KLmodes-all.fits\"\n",
    "\n",
    "with fits.open(f\"{fileprefix}{filesuffix}\") as hdulist:\n",
    "    reduced_cube = hdulist[0].data\n",
    "    reduced_centers = [hdulist[0].header[\"PSFCENTX\"], hdulist[0].header[\"PSFCENTY\"]]\n",
    "\n",
    "# Plot the KL10 Cube (index of 2)\n",
    "plt.imshow(reduced_cube[2], interpolation=\"nearest\", cmap=\"inferno\", vmin = np.nanpercentile(reduced_cube[2], 5), vmax  = np.nanpercentile(reduced_cube[2], 95))\n",
    "plt.xlabel(\"pixels\")\n",
    "plt.ylabel(\"pixels\")\n",
    "plt.gca().invert_yaxis()\n",
    "plt.show()"
   ]
  },
  {
   "cell_type": "markdown",
   "metadata": {},
   "source": [
    "### Mask Any Real Planets in Image\n",
    "\n",
    "At this point, we'd mask any 'real' planets that we know are in the data with nans. You can skip this step if your simulated data has no known planets by setting mask to be \"off\"."
   ]
  },
  {
   "cell_type": "code",
   "execution_count": 7,
   "metadata": {},
   "outputs": [],
   "source": [
    "def masking(mask = \"off\", x_positions = None, y_positions = None, psf_fwhm = 6):\n",
    "    \"\"\"\n",
    "    This function masks any real planets in your data given their x and y positions.\n",
    "    \n",
    "    Args:\n",
    "        mask (str): Keyword to specify whether or not you have any planets you'd like to mask\n",
    "        x_positions (int): x positions of planets to be masked\n",
    "        y_positions (int): x positions of planets to be masked (must be in same order as x)\n",
    "    \"\"\"\n",
    "    if mask == 'on':\n",
    "        \n",
    "        # Plot the KL10 Cube (index of 2)\n",
    "        fig = plt.figure(figsize=(10, 3))\n",
    "        ax1 = fig.add_subplot(1, 2, 1)\n",
    "        ax1.imshow(reduced_cube[2], interpolation=\"nearest\", cmap=\"inferno\", vmin = np.nanpercentile(reduced_cube[2], 1), vmax  = np.nanpercentile(reduced_cube[2], 99))\n",
    "        \n",
    "        # Place green circles around the real planets\n",
    "        for j in range(len(x_positions)):\n",
    "            circle = plt.Circle((x_positions[j], y_positions[j]), 4, fill=False, edgecolor=\"green\", ls=\"-\", linewidth=3)\n",
    "            ax1.add_artist(circle)\n",
    "        plt.gca().invert_yaxis()\n",
    "        ax1.set_xlabel(\"pixels\")\n",
    "        ax1.set_ylabel(\"pixels\")\n",
    "        ax1.set_title(\"PSF Subtracted Image\")\n",
    "        \n",
    "        # Create an array with the indices are that of KL mode frame with index 2\n",
    "        ydat, xdat = np.indices(reduced_cube[2].shape)\n",
    "        \n",
    "        # Mask the first planet\n",
    "        for x, y in zip(x_positions, y_positions):\n",
    "            \n",
    "            # Create an array with the indices are that of KL mode frame with index 2\n",
    "            distance_from_star = np.sqrt((xdat - x) ** 2 + (ydat - y) ** 2)\n",
    "            \n",
    "            # Mask\n",
    "            reduced_cube[2][np.where(distance_from_star <= 2 * psf_fwhm)] = np.nan\n",
    "            \n",
    "            post_mask_cube = reduced_cube[2]\n",
    "        \n",
    "        # Plot the new masked data\n",
    "        ax2 = fig.add_subplot(1, 2, 2)\n",
    "        ax2.imshow(post_mask_cube, interpolation=\"nearest\", cmap=\"inferno\", vmin = np.nanpercentile(reduced_cube[2], 1), vmax  = np.nanpercentile(reduced_cube[2], 99))\n",
    "        plt.gca().invert_yaxis()\n",
    "        ax2.set_xlabel(\"pixels\")\n",
    "        ax2.set_ylabel(\"pixels\")\n",
    "        ax2.set_title(\"Real Planets Masked\")\n",
    "        \n",
    "    elif mask == 'off':\n",
    "        post_mask_cube = reduced_cube[2]\n",
    "        \n",
    "    return post_mask_cube"
   ]
  },
  {
   "cell_type": "markdown",
   "metadata": {},
   "source": [
    "### Measure the Contrast\n",
    "\n",
    "Using the pyKLIP function meas_contrast, we can now compute the 5 $\\sigma$ noise at each separation in our image. For this function, we again need to specify our planet's FWHM as well as our outer working angle and the center of our input frame. "
   ]
  },
  {
   "cell_type": "code",
   "execution_count": 8,
   "metadata": {},
   "outputs": [
    {
     "data": {
      "image/png": "[encoded data removed]",
      "text/plain": [
       "<Figure size 720x216 with 2 Axes>"
      ]
     },
     "metadata": {
      "image/png": {
       "height": 222,
       "width": 530
      },
      "needs_background": "light"
     },
     "output_type": "display_data"
    }
   ],
   "source": [
    "psf_fwhm = 6\n",
    "masked_cube = masking(mask = mask, x_positions=x_positions, y_positions=y_positions, psf_fwhm = psf_fwhm)\n",
    "\n",
    "# Measuring the contrast in the image\n",
    "contrast_seps, contrast = pyklip.klip.meas_contrast(dat=masked_cube, iwa=(IWA-3), owa=OWA, resolution=(psf_fwhm), center=reduced_centers, low_pass_filter=False)\n"
   ]
  },
  {
   "cell_type": "markdown",
   "metadata": {},
   "source": [
    "### Normalize the contrast measurement\n",
    "\n",
    "Once the contrast levels are measured, we can normalize it by dividing by the unocculted stellar psf flux. In order to do this, we need to read in and measure the flux of the unocculted psf."
   ]
  },
  {
   "cell_type": "code",
   "execution_count": 9,
   "metadata": {},
   "outputs": [],
   "source": [
    "# Read in unocculted PSF\n",
    "with fits.open(f\"{datadir}/{unocculted_psf}\") as hdulist:\n",
    "    psf_cube = hdulist[0].data\n",
    "    psf_head = hdulist[0].header\n",
    "\n",
    "if len(psf_cube.shape) == 2:\n",
    "    psf_frame = psf_cube\n",
    "\n",
    "elif len(psf_cube.shape) == 3:\n",
    "    # Collapse reference psf in time\n",
    "    psf_frame = np.nanmean(psf_cube, axis = 0)\n",
    "\n",
    "# Find the centroid\n",
    "bestfit = fakes.gaussfit2d(psf_frame, center_x , center_y, searchrad=3, guessfwhm=2, guesspeak=1, refinefit=True)\n",
    "\n",
    "psf_xcen, psf_ycen = bestfit[2:4]\n",
    "peak_flux = bestfit[0]\n",
    "\n",
    "# Recenter PSF to that location\n",
    "x, y = np.meshgrid(np.arange(-20, 20.1, 1), np.arange(-20, 20.1, 1))\n",
    "x += psf_xcen\n",
    "y += psf_ycen\n",
    "\n",
    "psf_stamp = scipy.ndimage.map_coordinates(psf_frame, [y, x])\n",
    "\n",
    "\n",
    "norm_contrast = contrast / peak_flux"
   ]
  },
  {
   "cell_type": "code",
   "execution_count": null,
   "metadata": {},
   "outputs": [],
   "source": [
    "# Plot contrast curve!\n",
    "plt.rcParams.update({\"font.size\": 18})\n",
    "plt.figure(figsize=(10, 5))\n",
    "plt.plot(contrast_seps, norm_contrast, color=\"teal\")\n",
    "plt.xlabel(\"Separation (pixels)\")\n",
    "plt.ylabel(\"Contrast (5 $\\sigma$)\")\n",
    "plt.yscale(\"log\")\n",
    "plt.title(\"Raw Contrast Curve\")\n",
    "plt.show()"
   ]
  },
  {
   "cell_type": "markdown",
   "metadata": {},
   "source": [
    "## Calibrating Throughput\n",
    "\n",
    "We expect the KLIP reduction process to lead to a decrease in measured planet flux due to over-subtraction and self-subtraction. Now that we've created a raw contrast curve, we can calculate the algorithm throughput of our KLIP reduced images and estimate how much the reduction affects our measurements. \n",
    "\n",
    "In order to optimize this calculation, we need to inject multiple fake planets at varying separations and postion angles to get a feel for how throughput changes across the image."
   ]
  },
  {
   "cell_type": "markdown",
   "metadata": {},
   "source": [
    "### Correcting for coronagraphic throughput\n",
    "\n",
    "In addition to the algorithm throughput, we can also account for the effect of JWST's coronograph on light transmission as we inject fake planets. The ``fakes.inject_planet`` function has an optional argument 'field_dependent_correction' which accepts a user provided function to correct for coronagraphic throughput. The signature of the user provided function is (input_stamp: numpy.ndarray, input_dx: numpy.ndarray, input_dy: numpy.ndarray) -> numpy.ndarray. All the numpy arrays in the signature should be 2D. As an example of how this would be done, we'll use the transmission profile of the MASK210 coronagraph (obtained from the Occulting Masks section of this NIRCAM webpage: https://jwst-docs.stsci.edu/near-infrared-camera/nircam-instrumentation/nircam-coronagraphic-occulting-masks-and-lyot-stops)."
   ]
  },
  {
   "cell_type": "code",
   "execution_count": 15,
   "metadata": {},
   "outputs": [],
   "source": [
    "# First we need to regenerate raw data since the first dataset was KLIP reduced. \n",
    "dataset2, psflib2 = generate_datasets(datadir, roll_filenames_list = roll_filenames_list, ref_filenames_list = ref_filenames_list, rollnames_list = rollnames_list, pas_list = pas_list, mode = mode)\n",
    "\n",
    "if mode == 'RDI':\n",
    "    psflib2.prepare_library(dataset2)\n",
    "\n",
    "\n",
    "# Create the throughput correction function\n",
    "def transmission_corrected(input_stamp, input_dx, input_dy):\n",
    "\n",
    "    \"\"\"\n",
    "    Args:\n",
    "        input_stamp (array): 2D array of the region surrounding the fake planet injection site\n",
    "        input_dx (array): 2D array specifying the x distance of each stamp pixel from the center\n",
    "        input_dy (array): 2D array specifying the y distance of each stamp pixel from the center\n",
    "        \n",
    "    Returns:\n",
    "        output_stamp (array): 2D array of the throughput corrected planet injection site.\n",
    "        \"\"\"\n",
    "\n",
    "    # Calculate the distance of each pixel in the input stamp from the center\n",
    "    distance_from_center = np.sqrt((input_dx) ** 2 + (input_dy) ** 2)\n",
    "\n",
    "    # Interpolate to find the transmission value for each pixel in the input stamp (we need to turn the columns into arrays so np.interp can accept them)\n",
    "    distance = np.array(coronagraph[\"rad_dist\"])\n",
    "    transmission = np.array(coronagraph[\"trans\"])\n",
    "    \n",
    "    # Calculate the distance in pixels\n",
    "    distance_pix = coronagraph['rad_dist']/0.063\n",
    "    \n",
    "    trans_at_dist = np.interp(distance_from_center, distance_pix, transmission)\n",
    "\n",
    "    # Reshape the interpolated array to have the same dimensions as the input stamp\n",
    "    transmission_stamp = trans_at_dist.reshape(input_stamp.shape)\n",
    "\n",
    "    # Make the throughput correction\n",
    "    output_stamp = transmission_stamp * input_stamp\n",
    "\n",
    "    return output_stamp"
   ]
  },
  {
   "cell_type": "code",
   "execution_count": 16,
   "metadata": {},
   "outputs": [],
   "source": [
    "# Injecting fake at 7 pix\n",
    "\n",
    "psf_stamp_input = np.array([psf_stamp for j in range(12)])\n",
    "planet_sep = 7\n",
    "input_contrast = 0.0007453333542335642\n",
    "pa = 270\n",
    "\n",
    "\n",
    "planet_flux = psf_stamp_input * input_contrast\n",
    "\n",
    "fakes.inject_planet(frames=dataset.input, centers=dataset.centers, inputflux=planet_flux, astr_hdrs=dataset.wcs, radius=planet_sep, pa=pa, field_dependent_correction=transmission_corrected)\n"
   ]
  },
  {
   "cell_type": "markdown",
   "metadata": {},
   "source": [
    "### Injecting the fake planets\n",
    "\n",
    "The injected fake planets will be scaled down versions of the unocculted PSF. We can choose how many we'd like to put into our dataset, what we want their relative fluxes to be, and their separations from the planet. For now, we'll inject eight planets into a single dataset and we'll use our 5 sigma contrast curve to decided on the contrast values to use.\n",
    "\n",
    "*Note that the image is only 100 pixels in diameter, and if we factor in the size of a fake planet, our maximum injection separation is limited to ~45 pixels from the center.* "
   ]
  },
  {
   "cell_type": "code",
   "execution_count": null,
   "metadata": {},
   "outputs": [],
   "source": [
    "# Let's choose our contrasts so that they are 500% of the contrast limit\n",
    "psf_stamp_input = np.array([psf_stamp for j in range(12)])\n",
    "planet_seps = np.linspace(IWA, OWA, 8)\n",
    "input_contrasts = (np.interp(planet_seps, contrast_seps, norm_contrast))*5\n",
    "pas = 270 - np.linspace(0, 330, 8)\n",
    "\n",
    "# Now injecting the fake planets in a spiral:\n",
    "for input_contrast, planet_sep, pa in zip(input_contrasts, planet_seps, pas):\n",
    "    planet_fluxes = psf_stamp_input * input_contrast\n",
    "    fakes.inject_planet(frames=dataset2.input, centers=dataset2.centers, inputflux=planet_fluxes, astr_hdrs=dataset2.wcs, radius=planet_sep, pa=pa, field_dependent_correction=transmission_corrected)"
   ]
  },
  {
   "cell_type": "markdown",
   "metadata": {},
   "source": [
    "### Run KLIP - Recover Planets\n",
    "\n",
    "Now that we've injected our fake planets, we can check how well we were able to recover them by running KLIP. We'll use the same subsections and annuli as before. Post-klip, we can see the injected planets circled in white, while the 'real' planets are circled in blue. \n",
    "\n",
    "**We need to create an empty 'contrastcurves' directory prior to this step**"
   ]
  },
  {
   "cell_type": "code",
   "execution_count": null,
   "metadata": {},
   "outputs": [],
   "source": [
    "mkdir contrastcurves"
   ]
  },
  {
   "cell_type": "code",
   "execution_count": 17,
   "metadata": {},
   "outputs": [
    {
     "name": "stdout",
     "output_type": "stream",
     "text": [
      "Begin align and scale images for each wavelength\n",
      "Wavelength 1.0 with index 0 has finished align and scale. Queuing for KLIP\n",
      "Closing threadpool\n",
      "Derotating Images...\n",
      "Writing Images to directory /Users/jeaadams/JWST-ERS-Pipeline/notebooks/contrastcurves\n",
      "wavelength collapsing reduced data of shape (b, N, wv, y, x):(5, 12, 1, 101, 101)\n"
     ]
    }
   ],
   "source": [
    "# Set output directory\n",
    "outputdir = \"contrastcurves\"\n",
    "fileprefix = f\"FAKE_KLIP_{mode}_A9K5S4M1\"\n",
    "numbasis = [1, 5, 10, 20, 50]\n",
    "annuli = annuli\n",
    "subsections = subsections\n",
    "movement = movement\n",
    "\n",
    "# Run KLIP on dataset with injected fakes\n",
    "parallelized.klip_dataset(dataset2, outputdir=outputdir, fileprefix=fileprefix, algo=\"klip\", annuli=annuli, subsections=subsections, movement=movement, numbasis=numbasis, mode=mode, psf_library=psflib2)"
   ]
  },
  {
   "cell_type": "code",
   "execution_count": 18,
   "metadata": {},
   "outputs": [],
   "source": [
    "# Plot this reduced data cube.\n",
    "with fits.open(f\"{outputdir}/{fileprefix}{filesuffix}\") as hdulist:\n",
    "    reduced_cube = hdulist[0].data\n",
    "\n",
    "# Plot the KL10 Cube (index of 2)\n",
    "fig = plt.figure()\n",
    "ax = plt.subplot()\n",
    "ax.set_xlabel(\"pixels\")\n",
    "ax.set_ylabel(\"pixels\")\n",
    "ax.set_title(\"PSF Subtracted\")\n",
    "ax.imshow(reduced_cube[2], interpolation=\"nearest\", cmap=\"inferno\", vmin = np.nanpercentile(reduced_cube[2], 4), vmax = np.nanpercentile(reduced_cube[2], 99))\n",
    ".1\n",
    "# Find the positions of the injected planets\n",
    "injected_x = [50 + sep * np.cos((np.radians(pa + 90))) for sep, pa in zip(planet_seps, pas)]\n",
    "injected_y = [50 + sep * np.sin((np.radians(pa + 90))) for sep, pa in zip(planet_seps, pas)]\n",
    "\n",
    "# Find the positions of the 'real' planets\n",
    "if x_positions is not None:\n",
    "    real_x = x_positions\n",
    "    real_y = y_positions\n",
    "    \n",
    "    # Place green circles around the real planets\n",
    "    for j in range(len(real_x)):\n",
    "        circle2 = plt.Circle((real_x[j], real_y[j]), 4, fill=False, edgecolor=\"green\", ls=\"-\", linewidth=3)\n",
    "        ax.add_artist(circle2)\n",
    "\n",
    "# Place circles around the injected planets\n",
    "for i in range(len(injected_x)):\n",
    "    circle1 = plt.Circle((injected_x[i], injected_y[i]), 4, fill=False, edgecolor=\"white\", ls=\"-\", linewidth=2)\n",
    "    ax.add_artist(circle1)\n",
    "\n",
    "\n",
    "    \n",
    "plt.gca().invert_yaxis()\n",
    "plt.show()"
   ]
  },
  {
   "cell_type": "markdown",
   "metadata": {},
   "source": [
    "### Recovering Flux Values\n",
    "\n",
    "We can now visually inspect how well we were able to recover each injected planet. In order to quantify this algrorithm throughput, pyKLIP has a built in function ``retrieve_planet_flux`` that lets us compare the retrieved flux to the input flux."
   ]
  },
  {
   "cell_type": "code",
   "execution_count": null,
   "metadata": {},
   "outputs": [],
   "source": [
    "# Obtain the centers of the output KLIP fits file\n",
    "with fits.open(f\"{outputdir}/{fileprefix}{filesuffix}\") as hdulist:\n",
    "    cube = hdulist[0].data[1]\n",
    "    cube_centers = [hdulist[0].header[\"PSFCENTX\"], hdulist[0].header[\"PSFCENTY\"]]\n",
    "\n",
    "# Create and empty list to store retrieved flux values\n",
    "retrieved_fluxes = []\n",
    "\n",
    "# Retrieve planet fluxes\n",
    "for input_contrast, planet_sep, pa in zip(input_contrasts, planet_seps, pas):\n",
    "    fake_planet_fluxes = []\n",
    "    fake_flux = fakes.retrieve_planet_flux(frames=cube, centers=cube_centers, astr_hdrs=dataset2.output_wcs[0], sep=planet_sep, pa=pa)\n",
    "    retrieved_fluxes.append(fake_flux)\n",
    "    \n",
    "    "
   ]
  },
  {
   "cell_type": "markdown",
   "metadata": {},
   "source": [
    "### Calculating throughput\n",
    "\n",
    "Now that we've run a full reduction on the data with injected planets, we can calculate the throughput to figure our how well we were able to recover the planet at different separations. Throughput can be calculated as follows: throughput = $\\frac{output\\ flux}{input\\ flux}$ at each separation. "
   ]
  },
  {
   "cell_type": "code",
   "execution_count": null,
   "metadata": {},
   "outputs": [],
   "source": [
    "# Calculate the input flux\n",
    "input_flux = [contrast * peak_flux for contrast in input_contrasts]\n",
    "\n",
    "# Calculate the throughput\n",
    "throughput = [retrieved_flux / input_flux for retrieved_flux, input_flux in zip(retrieved_fluxes, input_flux)]\n",
    "# Now we can visualize our throughput as a function of separation\n",
    "fig = plt.figure(figsize=(10, 7))\n",
    "plt.plot(planet_seps, throughput, color=\"teal\")\n",
    "plt.xlabel(\"Separation (pixels)\")\n",
    "plt.ylabel(\"Throughput\")\n",
    "plt.ylim(0,1)\n",
    "plt.show()"
   ]
  },
  {
   "cell_type": "markdown",
   "metadata": {},
   "source": [
    "## The Throughput Corrected Contrast Curve\n",
    "\n",
    "Now that we've calculated the throughput at various separations, we can scale our raw contrast measurements to make them more representative of what we can actually retrieve with KLIP.  "
   ]
  },
  {
   "cell_type": "code",
   "execution_count": null,
   "metadata": {},
   "outputs": [],
   "source": [
    "# Normalize the noise contrast by the measured throughput level at that separation\n",
    "corrected_contrast = [contrast / tp for contrast, tp in zip(norm_contrast, throughput)]"
   ]
  },
  {
   "cell_type": "code",
   "execution_count": null,
   "metadata": {},
   "outputs": [],
   "source": [
    "fig = plt.figure(figsize=(10, 5))\n",
    "plt.plot(planet_seps, corrected_contrast, color=\"teal\")\n",
    "plt.title(\"Calibrated Contrast\")\n",
    "plt.ylabel(\"Contrast\")\n",
    "plt.xlabel(\"Separation (pixels)\")\n",
    "plt.yscale(\"log\")\n",
    "plt.show()"
   ]
  },
  {
   "cell_type": "markdown",
   "metadata": {},
   "source": [
    "## Inject Many More Planets\n",
    "\n",
    "While the process outlined above will reliably provide us with a throughput corrected contrast curve, we can optimize these contrast measurements by injecting and recovering many more fake planets. However, instead of injecting them all in one go, we will use a loop to inject only a small portion (around 6) into a single dataset at a time. This helps avoid the effects of overcrowding the image, which can lead to us 'losing' planets.\n",
    "\n",
    "First, we'll define a function that injects and recovers planets, essentially automating the process above. "
   ]
  },
  {
   "cell_type": "markdown",
   "metadata": {},
   "source": [
    "### A function to automate fake planet injection, retrieval and measurement"
   ]
  },
  {
   "cell_type": "code",
   "execution_count": null,
   "metadata": {},
   "outputs": [],
   "source": [
    "def multiple_planet_injection(datadir, filtername, seps, input_pas, loops_atsep, input_contrasts, mode):\n",
    "    \n",
    "    \"\"\"\n",
    "    Injects multiple fake planets across multiple datasets.\n",
    "\n",
    "    Args:\n",
    "        datadir (str): The name of the directory that the data is contained in\n",
    "        filtername (str) The name of the filter to be used\n",
    "        seps (list: int): List of separations each planet should be injected at\n",
    "        input_pas (list: int): List of position angles to inject fake planets at \n",
    "        loops_atsep(int): The number of datasets to be generated. This is equal to the number of interations of planet injection/number of position angle changes\n",
    "        input_contrasts(list: float): List of contrasts planets should be injected at\n",
    "    Returns:\n",
    "        retrieved_fluxes_all (list): All retrieved planet fluxes\n",
    "        pas_all (list): All position angles used for injection\n",
    "        planet_seps_all (list): All planet separations used for injection\n",
    "        input_contrasts_all (list): All planet contrasts used for injection\n",
    "    \"\"\"\n",
    "    \n",
    "    pas_all = []\n",
    "    retrieved_fluxes_all = []\n",
    "    planet_seps_all = []\n",
    "    input_contrasts_all = []\n",
    "    \n",
    "    # Generate desired number of datasets: number of loops at each separation\n",
    "    datasets, psflibs = generate_datasets(datadir, roll_filenames_list = roll_filenames_list, ref_filenames_list = ref_filenames_list, rollnames_list = rollnames_list, pas_list = pas_list, mode = mode, num_datasets = loops_atsep)\n",
    "\n",
    "    # Begin fake planet injection and retrieval, changing position angle each time\n",
    "    for dataset_num, dataset, psflib in zip(range(len(datasets)), datasets, psflibs):\n",
    "        if mode == 'RDI':\n",
    "            psflib.prepare_library(dataset)\n",
    "\n",
    "        # Create stamps of the point spread function to be injected as a fake planet\n",
    "        psf_stamp_input = np.array([psf_stamp for j in range(12)])\n",
    "        \n",
    "        # Clock the position angles of the injected planets by 40 each time\n",
    "        input_pas = [x+40*dataset_num for x in input_pas]\n",
    "\n",
    "        start_over = False\n",
    "\n",
    "        # Inject fake planets\n",
    "        for input_contrast, sep, pa in zip(input_contrasts, seps, input_pas):\n",
    "\n",
    "            # Check the distance between the planet to be injected and the real planets. We don't want to inject fake planets too close to the two planets already in the data.\n",
    "            if x_positions is not None:\n",
    "                check_sep_x = sep * np.cos((pa + 90))\n",
    "                check_sep_y = sep * np.sin((pa + 90))\n",
    "                dist_p1 = np.sqrt((check_sep_x - x_positions[0])**2 + (check_sep_y - y_positions[0])**2)\n",
    "                dist_p2 = np.sqrt((check_sep_x - x_positions[1])**2 + (check_sep_y - y_positions[1])**2)\n",
    "\n",
    "                # Make sure fake planets won't be injected within a 12 pixel radius of the real planets\n",
    "                if dist_p1 > 12 and dist_p2 > 12:\n",
    "\n",
    "                    planet_fluxes = psf_stamp_input * input_contrast\n",
    "                    fakes.inject_planet(frames=dataset.input, centers=dataset.centers, inputflux=planet_fluxes, astr_hdrs=dataset.wcs, radius=sep, pa=pa, field_dependent_correction=transmission_corrected)\n",
    "\n",
    "                # If the fake planet to be injected is within a 12 pixel radius of the real planets, start the loop over\n",
    "                else:\n",
    "                    start_over = True\n",
    "                \n",
    "            elif x_positions is None:\n",
    "                planet_fluxes = psf_stamp_input * input_contrast\n",
    "                fakes.inject_planet(frames=dataset.input, centers=dataset.centers, inputflux=planet_fluxes, astr_hdrs=dataset.wcs, radius=sep, pa=pa, field_dependent_correction=transmission_corrected)\n",
    "\n",
    "\n",
    "            if start_over:\n",
    "                continue\n",
    "            \n",
    "\n",
    "        # Run KLIP on datasets with injected planets: Set output directory\n",
    "        outputdir = \"contrastcurves\"\n",
    "        fileprefix = f\"FAKE_KLIP_{mode}_A9K5S4M1_{str(dataset_num)}\"\n",
    "        filename =  f\"FAKE_KLIP_{mode}_A9K5S4M1_{str(dataset_num)}-KLmodes-all.fits\"\n",
    "        numbasis = [1, 5, 10, 20, 50]\n",
    "\n",
    "        # Run KLIP \n",
    "        parallelized.klip_dataset(dataset, outputdir=outputdir, fileprefix=fileprefix, algo=\"klip\", annuli=annuli, subsections=subsections, movement=movement, numbasis=numbasis, mode=mode, verbose=False, psf_library=psflib)\n",
    "\n",
    "        # Open one frame of the KLIP-ed dataset\n",
    "        klipdataset = os.path.join(outputdir, filename)\n",
    "        with fits.open(klipdataset) as hdulist:\n",
    "            outputfile = hdulist[0].data\n",
    "            outputfile_centers = [hdulist[0].header[\"PSFCENTX\"], hdulist[0].header[\"PSFCENTY\"]]\n",
    "        outputfile_frame = outputfile[2]\n",
    "\n",
    "        # Retrieve planet fluxes\n",
    "        retrieved_planet_fluxes = []\n",
    "        for input_contrast, sep, pa in zip(input_contrasts, seps, input_pas):\n",
    "\n",
    "            fake_flux = fakes.retrieve_planet_flux(frames=outputfile_frame, centers=outputfile_centers, astr_hdrs=dataset.output_wcs[0], sep=sep, pa=pa, searchrad=7)\n",
    "            retrieved_planet_fluxes.append(fake_flux)\n",
    "        retrieved_fluxes_all.extend(retrieved_planet_fluxes)\n",
    "        pas_all.extend(input_pas)\n",
    "        planet_seps_all.extend(seps)\n",
    "        input_contrasts_all.extend(input_contrasts)\n",
    "        \n",
    "    return retrieved_fluxes_all, pas_all, planet_seps_all, input_contrasts_all"
   ]
  },
  {
   "cell_type": "markdown",
   "metadata": {},
   "source": [
    "### Loop through many separations\n",
    "\n",
    "Now that we've created a function to inject and recover multiple planets, we can also diversify the separations that we can inject them at, thereby maximizing our measurement range. We'll create a loop to iterate through multiple separation lists. First, we'll think about the maximum and minimum separations that we want to measure. Then we can consider how many planets we want to inject to inject at one time, and what the distance between planets should be. With these variables, we can calculate how many loops of planet injection and recovery we'd have to make to go from our minimum to our maximum separation. Here, the end result will be that we've injected 80 planets."
   ]
  },
  {
   "cell_type": "code",
   "execution_count": null,
   "metadata": {},
   "outputs": [],
   "source": [
    "# Let's turn off warnings here since it can become really noisy\n",
    "if not sys.warnoptions:\n",
    "    import warnings\n",
    "    warnings.simplefilter(\"ignore\")\n",
    "    \n",
    "# Define separation variables \n",
    "min_sep = IWA\n",
    "max_sep = OWA\n",
    "nplanets = 3 # number of planets you want injected at a time\n",
    "dist_bt_planets = 3 # distance between injected exoplanets\n",
    "loops_atsep = 10  # number of times you want to test each separation\n",
    "input_pas = [0, 30, 60]\n",
    "\n",
    "# Maximum separation of first iteration\n",
    "max_sep_1 = min_sep + (dist_bt_planets * (nplanets-1))\n",
    "\n",
    "# Number of times to iterate to get to max desired separation (max desired sep - max sep in first iteration)\n",
    "# Add 1 because loop will start at 0\n",
    "n_sep_loops = int((((max_sep - min_sep)/(dist_bt_planets)) + 1)/nplanets)\n",
    "\n",
    "retrieved_fluxes_all = []\n",
    "output_pas_all = []\n",
    "planet_seps_all = []\n",
    "output_contrasts_all = []\n",
    "\n",
    "for n in tqdm(range(n_sep_loops)):\n",
    "    # Create array of separations and contrasts to be injected at, spaced by desired distance b/t planets\n",
    "    seps = np.arange(min_sep + (9*n), max_sep_1+1 + (9*n), dist_bt_planets)\n",
    "    input_contrasts = (np.interp(seps, contrast_seps, norm_contrast))*5\n",
    "    \n",
    "    retrieved_fluxes, output_pas, output_planet_seps, output_contrasts = multiple_planet_injection(datadir, filtername, seps, input_pas, loops_atsep, input_contrasts, mode)\n",
    "    \n",
    "    retrieved_fluxes_all.extend(retrieved_fluxes)\n",
    "    output_pas_all.extend(output_pas)\n",
    "    planet_seps_all.extend(output_planet_seps)\n",
    "    output_contrasts_all.extend(output_contrasts)\n",
    "    "
   ]
  },
  {
   "cell_type": "markdown",
   "metadata": {},
   "source": [
    "### Put results into a table and calculate throughput\n",
    "\n",
    "Finally, we can use our assortment of new measurements to refine our throuhput calculation, and thus produce a more accurate calibrated contrast curve."
   ]
  },
  {
   "cell_type": "code",
   "execution_count": null,
   "metadata": {},
   "outputs": [],
   "source": [
    "# Create a table of all variables\n",
    "flux_sep = Table([retrieved_fluxes_all, planet_seps_all, output_contrasts_all, output_pas_all], names=(\"flux\", \"separation\", \"input_contrast\", \"pas\"))\n",
    "flux_sep[\"input_flux\"] = flux_sep[\"input_contrast\"] * bestfit[0]\n",
    "\n",
    "# Calculate throughput and add it to the table\n",
    "flux_sep[\"throughput\"] = flux_sep[\"flux\"] / flux_sep[\"input_flux\"]\n",
    "\n",
    "# Group by separation\n",
    "med_flux_sep = flux_sep.group_by(\"separation\")\n",
    "\n",
    "# Calculate the median value for each separation group\n",
    "med_flux_sep = med_flux_sep.groups.aggregate(np.nanmedian)\n",
    "\n",
    "# Find the 5 sigma contrast for each separation used in calculation\n",
    "med_flux_sep['5sig_contrast']=np.interp(med_flux_sep['separation'],contrast_seps, norm_contrast)\n",
    "\n",
    "# Normalize the noise contrast by the measured throughput level at that separation\n",
    "med_flux_sep[\"corrected_contrast\"] = (med_flux_sep[\"5sig_contrast\"] / med_flux_sep[\"throughput\"])\n",
    "\n",
    "# Find slope and intercept of best fit line\n",
    "m, b = np.polyfit(med_flux_sep['separation'],med_flux_sep['throughput'], 1)\n",
    "\n",
    "# Calibrate contrast curve w/ best fit line\n",
    "y = m*med_flux_sep['separation']+b\n",
    "raw_contrast = np.interp(med_flux_sep['separation'],contrast_seps, norm_contrast)\n",
    "contrast_bestfit = raw_contrast/y"
   ]
  },
  {
   "cell_type": "code",
   "execution_count": null,
   "metadata": {},
   "outputs": [],
   "source": [
    "fig = plt.figure(figsize=(20, 8))\n",
    "ax1 = fig.add_subplot(1, 2, 1)\n",
    "ax1.plot(med_flux_sep[\"separation\"], med_flux_sep[\"throughput\"], color=\"#577B51\", label=\"Median Throughput\")\n",
    "ax1.scatter(flux_sep[\"separation\"], flux_sep[\"throughput\"], color = '#95B2B8', alpha=0.5, edgecolors='black', s = 80)\n",
    "ax1.plot(med_flux_sep['separation'], y, label = \"Best Fit Line\", color = \"#1A2518\")\n",
    "plt.ylim(0,1)\n",
    "plt.ylabel(\"Throughput\")\n",
    "plt.xlabel(\"Planet Separation\")\n",
    "plt.title(\"Algorithm Throughput\")\n",
    "plt.legend(frameon=False, loc=\"lower left\")\n",
    "\n",
    "ax2 = fig.add_subplot(1, 2, 2)\n",
    "ax2.plot(med_flux_sep[\"separation\"], med_flux_sep[\"corrected_contrast\"], color = '#577B51', label = \"Median\")\n",
    "ax2.plot(med_flux_sep[\"separation\"], contrast_bestfit, label = 'Best Fit', color = \"#1A2518\")\n",
    "plt.ylabel(\"Contrast\")\n",
    "plt.legend(frameon = False)\n",
    "plt.xlabel(\"Separation (pixels)\")\n",
    "plt.title('Calibrated Contrast Curve')\n",
    "plt.yscale(\"log\")"
   ]
  },
  {
   "cell_type": "markdown",
   "metadata": {},
   "source": [
    "### Now we can compare how much we've improved our contrast measurements"
   ]
  },
  {
   "cell_type": "code",
   "execution_count": null,
   "metadata": {},
   "outputs": [],
   "source": [
    "plt.figure(figsize=(12,7))\n",
    "plt.plot(med_flux_sep[\"separation\"], contrast_bestfit, label = '80 Planet Smoothed Contrast Curve', linewidth = 3, color = '#1A2518')\n",
    "plt.plot(med_flux_sep[\"separation\"], med_flux_sep[\"corrected_contrast\"], color=\"#577B51\", linewidth = 3, label = '80 Planet Contrast Curve')\n",
    "plt.plot(planet_seps, corrected_contrast, color=\"#A1BF9C\", linewidth = 3, label = '8 Planet Contrast Curve')\n",
    "plt.plot(contrast_seps, norm_contrast, color=\"#DCE7DA\", linewidth = 3, label = 'Raw Contrast Curve')\n",
    "plt.legend(frameon = False)\n",
    "plt.yscale('log')\n",
    "plt.ylabel(\"Contrast\")\n",
    "plt.xlabel(\"Separation (pixels)\")"
   ]
  },
  {
   "cell_type": "code",
   "execution_count": null,
   "metadata": {},
   "outputs": [],
   "source": []
  }
 ],
 "metadata": {
  "kernelspec": {
   "display_name": "Python 3",
   "language": "python",
   "name": "python3"
  },
  "language_info": {
   "codemirror_mode": {
    "name": "ipython",
    "version": 3
   },
   "file_extension": ".py",
   "mimetype": "text/x-python",
   "name": "python",
   "nbconvert_exporter": "python",
   "pygments_lexer": "ipython3",
   "version": "3.8.3"
  }
 },
 "nbformat": 4,
 "nbformat_minor": 2
}
