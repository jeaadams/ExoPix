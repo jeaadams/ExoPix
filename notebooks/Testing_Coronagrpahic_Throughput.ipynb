{
 "cells": [
  {
   "cell_type": "code",
   "execution_count": 1,
   "metadata": {},
   "outputs": [],
   "source": [
    "import os\n",
    "import astropy.io.fits as fits\n",
    "import numpy as np\n",
    "import scipy\n",
    "import scipy.ndimage as ndi\n",
    "import matplotlib.pylab as plt\n",
    "import pandas as pd\n",
    "%matplotlib inline\n",
    "%config InlineBackend.figure_format = 'retina'\n",
    "import pyklip.klip\n",
    "import pyklip.instruments.Instrument as Instrument\n",
    "import pyklip.parallelized as parallelized\n",
    "import pyklip.rdi as rdi\n",
    "from astropy.nddata.utils import Cutout2D"
   ]
  },
  {
   "cell_type": "code",
   "execution_count": 151,
   "metadata": {},
   "outputs": [
    {
     "data": {
      "text/plain": [
       "'/Users/jeaadams/JWST-ERS-Pipeline/notebooks'"
      ]
     },
     "execution_count": 151,
     "metadata": {},
     "output_type": "execute_result"
    }
   ],
   "source": [
    "pwd"
   ]
  },
  {
   "cell_type": "code",
   "execution_count": 2,
   "metadata": {},
   "outputs": [],
   "source": [
    "#Import the dataset to be used\n",
    "filtername = \"f300m\"\n",
    "\n",
    "# read in roll 1\n",
    "with fits.open(\"old_simulated_data/NIRCam_target_Roll1_{0}.fits\".format(filtername)) as hdulist:\n",
    "    roll1_cube = hdulist[0].data\n",
    "\n",
    "# read in roll 2\n",
    "with fits.open(\"old_simulated_data/NIRCam_target_Roll2_{0}.fits\".format(filtername)) as hdulist:\n",
    "    roll2_cube = hdulist[0].data  \n",
    "\n",
    "# combine the two rows\n",
    "full_seq = np.concatenate([roll1_cube, roll2_cube], axis=0)\n",
    "\n",
    "# two rolls are offset 10 degrees\n",
    "pas = np.append([0 for _ in range(roll1_cube.shape[0])], [10 for _ in range(roll2_cube.shape[0])])\n",
    "\n",
    "# for each image, the (x,y) center where the star is is just the center of the image\n",
    "centers = np.array([np.array(frame.shape)/2. for frame in full_seq])\n",
    "\n",
    "# give it some names, just in case we want to refer to them\n",
    "filenames = np.append([\"roll1_{0}\".format(i) for i in range(roll1_cube.shape[0])],\n",
    "                      [\"roll2_{0}\".format(i) for i in range(roll1_cube.shape[0])])\n",
    "\n",
    "#Define dataset\n",
    "dataset = Instrument.GenericData(full_seq, centers, IWA=4, parangs=pas, filenames=filenames)\n",
    "dataset.flipx = False"
   ]
  },
  {
   "cell_type": "code",
   "execution_count": 54,
   "metadata": {},
   "outputs": [],
   "source": [
    "image = np.zeros((11,11))\n",
    "for i in np.arange(0,11):\n",
    "    for j in np.arange(0,11):\n",
    "        xcen = 5\n",
    "        ycen = 5\n",
    "        image[i,j] = np.sqrt((i-xcen)**2 + (j-ycen)**2)"
   ]
  },
  {
   "cell_type": "code",
   "execution_count": 55,
   "metadata": {
    "scrolled": true
   },
   "outputs": [
    {
     "data": {
      "text/plain": [
       "<matplotlib.image.AxesImage at 0x1a1eaa83c8>"
      ]
     },
     "execution_count": 55,
     "metadata": {},
     "output_type": "execute_result"
    },
    {
     "data": {
      "image/png": "[encoded data removed]",
      "text/plain": [
       "<Figure size 432x288 with 1 Axes>"
      ]
     },
     "metadata": {
      "image/png": {
       "height": 250,
       "width": 253
      }
     },
     "output_type": "display_data"
    }
   ],
   "source": [
    "plt.figure()\n",
    "plt.imshow(image)"
   ]
  },
  {
   "cell_type": "code",
   "execution_count": 92,
   "metadata": {},
   "outputs": [
    {
     "data": {
      "text/plain": [
       "2.0"
      ]
     },
     "execution_count": 92,
     "metadata": {},
     "output_type": "execute_result"
    }
   ],
   "source": [
    "image[5][7] - image[5][5]"
   ]
  },
  {
   "cell_type": "code",
   "execution_count": 139,
   "metadata": {},
   "outputs": [],
   "source": [
    "stamp = image[7:10,7:10]\n",
    "input_dx=np.array([2,2,2,3,3,3,4,4,4])\n",
    "input_dy=np.array([2,3,4,2,3,4,2,3,4])"
   ]
  },
  {
   "cell_type": "code",
   "execution_count": 140,
   "metadata": {},
   "outputs": [],
   "source": [
    "dist = np.arange(2,5)\n",
    "trans = np.array([10,100,1000])"
   ]
  },
  {
   "cell_type": "code",
   "execution_count": 141,
   "metadata": {},
   "outputs": [
    {
     "data": {
      "text/plain": [
       "array([  10,  100, 1000])"
      ]
     },
     "execution_count": 141,
     "metadata": {},
     "output_type": "execute_result"
    }
   ],
   "source": [
    "trans"
   ]
  },
  {
   "cell_type": "code",
   "execution_count": 146,
   "metadata": {},
   "outputs": [],
   "source": [
    "def transmission_corrected(input_stamp, input_dx, input_dy):\n",
    "    for x in input_dx:\n",
    "        for y in input_dy:\n",
    "            distance_from_center = np.sqrt((input_dx)**2+(input_dy)**2)\n",
    "            trans_at_dist = np.interp(distance_from_center, dist, trans)\n",
    "    return trans_at_dist"
   ]
  },
  {
   "cell_type": "code",
   "execution_count": 147,
   "metadata": {},
   "outputs": [],
   "source": [
    "test = transmission_corrected(stamp, input_dx, input_dy)"
   ]
  },
  {
   "cell_type": "code",
   "execution_count": 122,
   "metadata": {},
   "outputs": [],
   "source": [
    "np.interp?"
   ]
  },
  {
   "cell_type": "code",
   "execution_count": 149,
   "metadata": {},
   "outputs": [],
   "source": [
    "test = test.reshape(3,3)"
   ]
  },
  {
   "cell_type": "code",
   "execution_count": 150,
   "metadata": {},
   "outputs": [
    {
     "data": {
      "text/plain": [
       "<matplotlib.image.AxesImage at 0x1a1f1698d0>"
      ]
     },
     "execution_count": 150,
     "metadata": {},
     "output_type": "execute_result"
    },
    {
     "data": {
      "image/png": "[encoded data removed]",
      "text/plain": [
       "<Figure size 432x288 with 1 Axes>"
      ]
     },
     "metadata": {
      "image/png": {
       "height": 252,
       "width": 271
      }
     },
     "output_type": "display_data"
    }
   ],
   "source": [
    "plt.figure()\n",
    "plt.imshow(test)"
   ]
  },
  {
   "cell_type": "code",
   "execution_count": null,
   "metadata": {},
   "outputs": [],
   "source": [
    "#Make a stamp around 80, 60\n",
    "stamp1 = roll2_cube[0][79:82,59:62]"
   ]
  }
 ],
 "metadata": {
  "kernelspec": {
   "display_name": "Python 3",
   "language": "python",
   "name": "python3"
  },
  "language_info": {
   "codemirror_mode": {
    "name": "ipython",
    "version": 3
   },
   "file_extension": ".py",
   "mimetype": "text/x-python",
   "name": "python",
   "nbconvert_exporter": "python",
   "pygments_lexer": "ipython3",
   "version": "3.6.5"
  }
 },
 "nbformat": 4,
 "nbformat_minor": 2
}
