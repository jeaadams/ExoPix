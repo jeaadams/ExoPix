{
 "cells": [
  {
   "cell_type": "code",
   "execution_count": 1,
   "metadata": {},
   "outputs": [],
   "source": [
    "import os\n",
    "import astropy.io.fits as fits\n",
    "import numpy as np\n",
    "import scipy\n",
    "import scipy.ndimage as ndi\n",
    "import matplotlib.pylab as plt\n",
    "%matplotlib inline\n",
    "%config InlineBackend.figure_format = 'retina'\n",
    "import pyklip.klip\n",
    "import pyklip.instruments.Instrument as Instrument\n",
    "import pyklip.parallelized as parallelized\n",
    "import pyklip.rdi as rdi\n",
    "import pyklip.fakes as fakes"
   ]
  },
  {
   "cell_type": "code",
   "execution_count": 2,
   "metadata": {},
   "outputs": [],
   "source": [
    "#Import the dataset to be used\n",
    "filtername = \"f300m\"\n",
    "\n",
    "# read in roll 1\n",
    "with fits.open(\"../old_simulated_data/NIRCam_target_Roll1_{0}.fits\".format(filtername)) as hdulist:\n",
    "    roll1_cube = hdulist[0].data\n",
    "\n",
    "# read in roll 2\n",
    "with fits.open(\"../old_simulated_data/NIRCam_target_Roll2_{0}.fits\".format(filtername)) as hdulist:\n",
    "    roll2_cube = hdulist[0].data  \n",
    "\n",
    "# combine the two rows\n",
    "full_seq = np.concatenate([roll1_cube, roll2_cube], axis=0)\n",
    "\n",
    "# two rolls are offset 10 degrees\n",
    "pas = np.append([0 for _ in range(roll1_cube.shape[0])], [10 for _ in range(roll2_cube.shape[0])])\n",
    "\n",
    "# for each image, the (x,y) center where the star is is just the center of the image\n",
    "centers = np.array([np.array(frame.shape)/2. for frame in full_seq])\n",
    "\n",
    "# give it some names, just in case we want to refer to them\n",
    "filenames = np.append([\"roll1_{0}\".format(i) for i in range(roll1_cube.shape[0])],\n",
    "                      [\"roll2_{0}\".format(i) for i in range(roll1_cube.shape[0])])\n",
    "\n",
    "#Define dataset\n",
    "dataset = Instrument.GenericData(full_seq, centers, IWA=4, parangs=pas, filenames=filenames)\n",
    "dataset.flipx = False"
   ]
  },
  {
   "cell_type": "code",
   "execution_count": 3,
   "metadata": {},
   "outputs": [
    {
     "name": "stdout",
     "output_type": "stream",
     "text": [
      "(6, 101, 101)\n",
      "70.45855749153525 29.8360856033007\n",
      "(41, 41)\n"
     ]
    }
   ],
   "source": [
    "# read in unocculted PSF\n",
    "with fits.open(\"../old_simulated_data/NIRCam_unocculted_f300m.fits\".format(filtername)) as hdulist:\n",
    "    psf_cube = hdulist[0].data \n",
    "    print(psf_cube.shape)  \n",
    "    \n",
    "# collapse reference psf in time\n",
    "psf_frame = np.nanmean(psf_cube, axis=0)\n",
    "\n",
    "# find the centroid\n",
    "bestfit = fakes.gaussfit2d(psf_frame, 71, 30, searchrad=3, guessfwhm=2, guesspeak=1, refinefit=True)\n",
    "\n",
    "psf_xcen, psf_ycen = bestfit[2:4]\n",
    "print(psf_xcen, psf_ycen)\n",
    "\n",
    "# recenter PSF to that location\n",
    "x, y = np.meshgrid(np.arange(-20,20.1,1), np.arange(-20,20.1,1))\n",
    "x += psf_xcen\n",
    "y += psf_ycen\n",
    "\n",
    "psf_stamp = scipy.ndimage.map_coordinates(psf_frame, [y,x])\n",
    "print(psf_stamp.shape)"
   ]
  },
  {
   "cell_type": "code",
   "execution_count": 4,
   "metadata": {},
   "outputs": [],
   "source": [
    "#Need to uncollapse the reference psf.  \n",
    "psf_stamp = np.expand_dims(psf_stamp, axis=0)"
   ]
  },
  {
   "cell_type": "code",
   "execution_count": 5,
   "metadata": {},
   "outputs": [
    {
     "data": {
      "text/plain": [
       "array([[ 30.,  30.,  30.,  30.,  30.,  30.,  40.,  40.,  40.,  40.,  40.,\n",
       "         40.],\n",
       "       [ 60.,  60.,  60.,  60.,  60.,  60.,  70.,  70.,  70.,  70.,  70.,\n",
       "         70.],\n",
       "       [ 90.,  90.,  90.,  90.,  90.,  90., 100., 100., 100., 100., 100.,\n",
       "        100.],\n",
       "       [150., 150., 150., 150., 150., 150., 160., 160., 160., 160., 160.,\n",
       "        160.],\n",
       "       [180., 180., 180., 180., 180., 180., 190., 190., 190., 190., 190.,\n",
       "        190.],\n",
       "       [210., 210., 210., 210., 210., 210., 220., 220., 220., 220., 220.,\n",
       "        220.]])"
      ]
     },
     "execution_count": 5,
     "metadata": {},
     "output_type": "execute_result"
    }
   ],
   "source": [
    "#Specify the desired contrasts of the fake planets' flux\n",
    "input_contrasts = [1e-2, 1e-2, 1e-2, 1e-2, 1e-2, 1e-2]\n",
    "planet_seps = [15,20,25,30,35,40]\n",
    "planet_fwhm = 3.5\n",
    "\n",
    "\n",
    "#Defining angle of injected fakes in CCW angle from +x axis to +y axis\n",
    "thetas = [np.ones(12)*30.0, np.ones(12)*60.0, np.ones(12)*90.0, np.ones(12)*150.0, np.ones(12)*180.0, np.ones(12)*210.0]\n",
    "thetas = thetas+dataset.PAs\n",
    "thetas"
   ]
  },
  {
   "cell_type": "code",
   "execution_count": 6,
   "metadata": {},
   "outputs": [],
   "source": [
    "#Inject fakes\n",
    "#Attempting to inject one fake at each theta in a spiral.\n",
    "\n",
    "#for input_contrast, planet_sep in zip(input_contrasts, planet_seps):\n",
    "#Multiply unocculted psf by desired contrast level to simulate planet psf\n",
    "   # planet_fluxes = y*input_contrast\n",
    "\n",
    "\n",
    "    #for theta in thetas:\n",
    "     #   fakes.inject_planet(frames = dataset.input, \n",
    "      #                      centers=dataset.centers, \n",
    "       #                     inputflux=planet_fluxes, \n",
    "        #                    astr_hdrs=dataset.wcs, \n",
    "         #                   radius=planet_sep,\n",
    "          #                  pa = None,\n",
    "           #                 thetas = theta)"
   ]
  },
  {
   "cell_type": "code",
   "execution_count": 7,
   "metadata": {},
   "outputs": [],
   "source": [
    "for input_contrast, planet_sep, theta in zip(input_contrasts, planet_seps, thetas):\n",
    "#Multiply unocculted psf by desired contrast level to simulate planet psf\n",
    "    planet_fluxes = psf_stamp*input_contrast\n",
    "\n",
    "    fakes.inject_planet(frames = dataset.input, \n",
    "                        centers=dataset.centers, \n",
    "                        inputflux=planet_fluxes, \n",
    "                        astr_hdrs=dataset.wcs, \n",
    "                        radius=planet_sep,\n",
    "                        pa = None,\n",
    "                        thetas = theta)"
   ]
  },
  {
   "cell_type": "code",
   "execution_count": 8,
   "metadata": {},
   "outputs": [
    {
     "name": "stdout",
     "output_type": "stream",
     "text": [
      "Begin align and scale images for each wavelength\n",
      "Wavelength 1.0 with index 0 has finished align and scale. Queuing for KLIP\n",
      "Total number of tasks for KLIP processing is 36\n",
      "27.78% done (9/36 completed)\n",
      "55.56% done (19/36 completed)\n",
      "83.33% done (29/36 completed)\n",
      "Closing threadpool\n",
      "Derotating Images...\n",
      "Writing Images to directory /Users/samuelsetegne/JWST-ERS-Pipeline/notebooks/thetas_tests/contrast_tests\n"
     ]
    },
    {
     "name": "stderr",
     "output_type": "stream",
     "text": [
      "/Users/samuelsetegne/pyklip/pyklip/parallelized.py:1561: RuntimeWarning: Mean of empty slice\n",
      "  KLmode_cube = np.nanmean(pixel_weights * dataset.output, axis=(1,2))\n"
     ]
    }
   ],
   "source": [
    "#Set output directory\n",
    "outputdir = 'contrast_tests'\n",
    "fileprefix = 'FAKE_KLIP_ADI_A9K5S4M1'\n",
    "numbasis = [1,5,10,20,50]\n",
    "\n",
    "\n",
    "#Run KLIP on dataset with injected fakes\n",
    "parallelized.klip_dataset(dataset, \n",
    "                          outputdir=outputdir, \n",
    "                          fileprefix=fileprefix, \n",
    "                          algo = 'klip', \n",
    "                          annuli=9, \n",
    "                          subsections=4, \n",
    "                          movement=1, \n",
    "                          numbasis=numbasis, \n",
    "                          mode=\"ADI\")"
   ]
  },
  {
   "cell_type": "code",
   "execution_count": 9,
   "metadata": {},
   "outputs": [
    {
     "data": {
      "image/png": "[encoded data removed]",
      "text/plain": [
       "<Figure size 432x288 with 1 Axes>"
      ]
     },
     "metadata": {
      "image/png": {
       "height": 251,
       "width": 266
      },
      "needs_background": "light"
     },
     "output_type": "display_data"
    }
   ],
   "source": [
    "# Open the fits file created\n",
    "with fits.open(\"contrast_tests/FAKE_KLIP_ADI_A9K5S4M1-KLmodes-all.fits\") as hdulist:\n",
    "    adi_cube = hdulist[0].data\n",
    "\n",
    "#Plot the result of KLIP\n",
    "plt.figure()\n",
    "# plot the KL20 Cube (index of 3)\n",
    "plt.imshow(adi_cube[2], interpolation='nearest', cmap = 'inferno')\n",
    "plt.gca().invert_yaxis()"
   ]
  },
  {
   "cell_type": "code",
   "execution_count": 10,
   "metadata": {},
   "outputs": [],
   "source": [
    "#Why does thetas + pa's still not do anything?\n",
    "#Shouldn't seps be different?"
   ]
  }
 ],
 "metadata": {
  "kernelspec": {
   "display_name": "Python 3",
   "language": "python",
   "name": "python3"
  },
  "language_info": {
   "codemirror_mode": {
    "name": "ipython",
    "version": 3
   },
   "file_extension": ".py",
   "mimetype": "text/x-python",
   "name": "python",
   "nbconvert_exporter": "python",
   "pygments_lexer": "ipython3",
   "version": "3.7.3"
  }
 },
 "nbformat": 4,
 "nbformat_minor": 2
}
